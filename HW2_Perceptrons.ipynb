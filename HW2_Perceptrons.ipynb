{
 "cells": [
  {
   "cell_type": "markdown",
   "metadata": {},
   "source": []
  },
  {
   "cell_type": "code",
   "execution_count": 1,
   "metadata": {},
   "outputs": [],
   "source": [
    "import numpy as np\n",
    "import pandas as pd\n",
    "import matplotlib.pyplot as plt\n",
    "import statistics"
   ]
  },
  {
   "cell_type": "code",
   "execution_count": 2,
   "metadata": {},
   "outputs": [],
   "source": [
    "def train(dataset,percent,lr):\n",
    "    random_choice = np.random.choice(samples,int(round(samples*percent)),replace=False) # Choose random % of data\n",
    "    train_set = dataset[random_choice,:]\n",
    "    steps = 0\n",
    "    pos = 0\n",
    "    correct = 0 # Format data into features and labels\n",
    "    x = train_set[:,:-1]\n",
    "    x = np.concatenate([x,np.ones((x.shape[0],1))],axis=1) # Add a column of 1s to account for bias\n",
    "    t = train_set[:,-1]\n",
    "    weights = np.random.uniform(-1,1,size)\n",
    "    while correct != len(x): # Loop through all 87 samples\n",
    "        sum = np.dot(x[pos],weights) # Calculate the sum of the inputs multiplied by weights\n",
    "        if sum >= 0 and t[pos] != 'GOOD': # Decrease weights if prediction is 1 and actual is 0\n",
    "            weights = weights + (-lr*x[pos])\n",
    "            correct = 0\n",
    "        elif sum < 0 and t[pos] != 'POOR': # Increase weights if prediction is 0 and actual is 1\n",
    "            weights = weights + (lr*x[pos])\n",
    "            correct = 0\n",
    "        else: # Prediction and actual match\n",
    "            correct += 1\n",
    "        pos += 1\n",
    "        steps += 1\n",
    "        if pos > len(x)-1:\n",
    "            pos = 0\n",
    "    return([weights,steps,percent,lr])"
   ]
  },
  {
   "cell_type": "code",
   "execution_count": 3,
   "metadata": {
    "scrolled": true
   },
   "outputs": [
    {
     "name": "stdout",
     "output_type": "stream",
     "text": [
      "Using 50% of data and lr = 0.010000\n",
      "Took 575 iterations\n",
      "Accuracy = 0.850575\n",
      "Weights:\n",
      "[-0.3363995579140516 0.10836118593131479 0.671656214622423\n",
      " -0.30463079821273054 0.9286564048866235 0.052592581437920866\n",
      " -0.02176462371057364 -0.35582173233847125 -0.44556985458609577\n",
      " -0.6309886348859307 1.023689694538212 0.03257185986726739\n",
      " -0.20908567282802715 -0.7484753510950262 0.5534943546138026\n",
      " -0.9603406296965487 0.5820903027950612 0.5762187944841024\n",
      " 0.35303365622362026 0.7831766809904901 -0.2365158070335827\n",
      " 0.5869665696266928 -0.17670848403306205 -0.5158548601129006\n",
      " -0.23225533390667927 -0.05355245405420785 -0.5256750804355391\n",
      " 0.9420642488350229 -0.17819262814565276 0.1827458511168286\n",
      " 0.5446855801000119]\n"
     ]
    }
   ],
   "source": [
    "data = pd.read_csv(\"HW2_data.csv\")\n",
    "data = data.to_numpy()\n",
    "size = data.shape[1]\n",
    "samples = data.shape[0]\n",
    "\n",
    "x = data[:,:-1]\n",
    "x = np.hstack((x,np.ones((x.shape[0],1))))\n",
    "t = data[:,-1]\n",
    "\n",
    "def test(dataset,percent,lr,show=False):\n",
    "    output = train(dataset,percent,lr) # Calculate weights\n",
    "    results = np.dot(x,output[0]) # Use weights on the entire dataset\n",
    "    actual = t == 'GOOD'\n",
    "    predict = results >= 0\n",
    "    accuracy = np.mean(actual == predict) # Compare labels to calculate percent that match\n",
    "    print(\"Using %i%% of data and lr = %f\" % (output[2]*100,output[3]))\n",
    "    print(\"Took %i iterations\" % output[1])\n",
    "    print(\"Accuracy = %f\" % accuracy)\n",
    "    if show:\n",
    "        print(\"Weights:\")\n",
    "        print(output[0])\n",
    "    \n",
    "test(data,0.5,0.01,True)"
   ]
  },
  {
   "cell_type": "markdown",
   "metadata": {},
   "source": [
    "For the results above, even when only 50% of the data is used for training, accuracy is in the range of 80-90%. Furthermore, it is clear the the weights can have both different signs and different magnitudes. This suggests expression of a particular gene can indicate a more positive or negative prognosis, and some are more or less influential in the final determination."
   ]
  },
  {
   "cell_type": "code",
   "execution_count": 4,
   "metadata": {},
   "outputs": [
    {
     "name": "stdout",
     "output_type": "stream",
     "text": [
      "Accuracy:\n",
      "0.643448275862069\n",
      "0.7297701149425287\n",
      "0.7911494252873563\n",
      "0.8383908045977011\n",
      "0.8863218390804598\n",
      "0.9201149425287356\n",
      "0.9416091954022988\n",
      "0.9627586206896551\n",
      "0.9818390804597701\n",
      "1.0\n",
      "\n",
      "Variance:\n",
      "0.0075\n",
      "0.0033\n",
      "0.0031\n",
      "0.0019\n",
      "0.0011\n",
      "0.0009\n",
      "0.0008\n",
      "0.0004\n",
      "0.0002\n",
      "0.0\n"
     ]
    }
   ],
   "source": [
    "accs = []\n",
    "avgs = []\n",
    "for i in range(1,11): # Loop through all possibilities from 10% to 100%\n",
    "    repeats = []\n",
    "    for j in range(1,101): # Repeat calculation for each possibility 100 times\n",
    "        output = train(data,i/10,0.01)\n",
    "        results = np.dot(x,output[0])\n",
    "        actual = t == 'GOOD'\n",
    "        predict = results >= 0\n",
    "        accuracy = np.mean(actual == predict)\n",
    "        repeats.append(accuracy)\n",
    "    accs.append(repeats) # Create a list of all weight values\n",
    "    avgs.append(statistics.mean(repeats)) # Create a list of average weights across all 100 trials\n",
    "print(\"Accuracy:\")\n",
    "for avg in avgs:\n",
    "    print(avg)\n",
    "print(\"\\nVariance:\")\n",
    "for acc in accs:\n",
    "    variance = round(np.var(acc),4) # Calculate variance\n",
    "    print(variance)"
   ]
  },
  {
   "cell_type": "code",
   "execution_count": 11,
   "metadata": {},
   "outputs": [
    {
     "name": "stdout",
     "output_type": "stream",
     "text": [
      "Single run\n"
     ]
    },
    {
     "data": {
      "image/png": "[encoded data removed]",
      "text/plain": [
       "<Figure size 432x288 with 1 Axes>"
      ]
     },
     "metadata": {
      "needs_background": "light"
     },
     "output_type": "display_data"
    },
    {
     "name": "stdout",
     "output_type": "stream",
     "text": [
      "100 runs\n"
     ]
    },
    {
     "data": {
      "image/png": "[encoded data removed]",
      "text/plain": [
       "<Figure size 432x288 with 1 Axes>"
      ]
     },
     "metadata": {
      "needs_background": "light"
     },
     "output_type": "display_data"
    }
   ],
   "source": [
    "single = []\n",
    "for i in range(1,11): # Loop through all possibilities from 10% to 100%\n",
    "    output = train(data,i/10,0.01)\n",
    "    results = np.dot(x,output[0])\n",
    "    actual = t == 'GOOD'\n",
    "    predict = results >= 0\n",
    "    accuracy = np.mean(actual == predict)\n",
    "    single.append(accuracy)\n",
    "plt.plot(range(10,110,10),single,'bo')\n",
    "plt.title(\"Perceptron Learning Curve\")\n",
    "plt.xlabel(\"Percent of data\")\n",
    "plt.ylabel(\"Accuracy\");\n",
    "print(\"Single run\")\n",
    "plt.show()\n",
    "\n",
    "plt.plot(range(10,110,10),avgs,'bo')\n",
    "plt.title(\"Perceptron Learning Curve\")\n",
    "plt.xlabel(\"Percent of data\")\n",
    "plt.ylabel(\"Accuracy\");\n",
    "print(\"100 runs\")\n",
    "plt.show()"
   ]
  },
  {
   "cell_type": "markdown",
   "metadata": {},
   "source": [
    "Unsurprisingly, the closer the training set resembles the test set, the higher the accuracy. Also across multiple trials, the variance in the model's predictions decreases. In a more practical situation, this would be a clear example of overfitting, and something such as cross-validation should be used."
   ]
  },
  {
   "cell_type": "code",
   "execution_count": 6,
   "metadata": {},
   "outputs": [
    {
     "name": "stdout",
     "output_type": "stream",
     "text": [
      "Using 80% of data and lr = 0.001000\n",
      "Took 20596 iterations\n",
      "Accuracy = 0.954023\n",
      "Using 80% of data and lr = 0.010000\n",
      "Took 1071 iterations\n",
      "Accuracy = 0.965517\n",
      "Using 80% of data and lr = 0.100000\n",
      "Took 459 iterations\n",
      "Accuracy = 0.988506\n",
      "Using 80% of data and lr = 1.000000\n",
      "Took 404 iterations\n",
      "Accuracy = 0.988506\n",
      "Using 80% of data and lr = 10.000000\n",
      "Took 447 iterations\n",
      "Accuracy = 1.000000\n"
     ]
    }
   ],
   "source": [
    "test(data,0.8,0.001)\n",
    "test(data,0.8,0.01)\n",
    "test(data,0.8,0.1)\n",
    "test(data,0.8,1)\n",
    "test(data,0.8,10)"
   ]
  },
  {
   "cell_type": "markdown",
   "metadata": {},
   "source": [
    "When the learning rate is adjusted while keeping the other parameters constant, accuracy also remains relatively constant. However, the number of iterations decreases as learning rate decreases, but this only true up to a point, as seen with the range from 0.1 to 10. This shows that a given model should be run multiple times to determine an optimal value."
   ]
  }
 ],
 "metadata": {
  "kernelspec": {
   "display_name": "Python 3",
   "language": "python",
   "name": "python3"
  },
  "language_info": {
   "codemirror_mode": {
    "name": "ipython",
    "version": 3
   },
   "file_extension": ".py",
   "mimetype": "text/x-python",
   "name": "python",
   "nbconvert_exporter": "python",
   "pygments_lexer": "ipython3",
   "version": "3.7.4"
  }
 },
 "nbformat": 4,
 "nbformat_minor": 2
}
