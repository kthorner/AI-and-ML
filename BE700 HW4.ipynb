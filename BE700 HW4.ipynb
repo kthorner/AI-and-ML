{
 "cells": [
  {
   "cell_type": "code",
   "execution_count": 1,
   "metadata": {},
   "outputs": [],
   "source": [
    "import numpy as np\n",
    "import pandas as pd\n",
    "import matplotlib.pyplot as plt\n",
    "import statistics\n",
    "import sklearn\n",
    "import scipy as sp"
   ]
  },
  {
   "cell_type": "code",
   "execution_count": 227,
   "metadata": {},
   "outputs": [],
   "source": [
    "# Data processing into features and labels\n",
    "data = pd.read_csv(\"HW2_data.csv\")\n",
    "names = data.columns[0:-1].tolist()\n",
    "genes = data.shape[1]-1\n",
    "patients = data.shape[0]"
   ]
  },
  {
   "cell_type": "code",
   "execution_count": 226,
   "metadata": {},
   "outputs": [],
   "source": [
    "# Entropy calculation, defaults to 0 if log cannot be found\n",
    "def entropy(a,b):\n",
    "    if (a+b) == 0:\n",
    "        return(0)\n",
    "    p1,p2 = a/(a+b),b/(a+b)\n",
    "    term1,term2 = 0,0\n",
    "    if p1 != 0:\n",
    "        term1 = p1 * np.log2(p1)\n",
    "    if p2 != 0:\n",
    "        term2 = p2 * np.log2(p2)\n",
    "    return(-term1 - term2)\n",
    "\n",
    "# Iterates through each gene, finding threshold with maximum information gain\n",
    "# Uses values to discretize original data\n",
    "column_list = []\n",
    "gain = []\n",
    "for i in range(genes):\n",
    "    gene_data = data.iloc[:,[i,-1]]\n",
    "    sort = gene_data.sort_values(gene_data.columns[0])\n",
    "    ig_list = []\n",
    "    for j in range(patients + 1):\n",
    "        group1 = sort.iloc[:j,:]\n",
    "        a1,b1 = len(group1[group1.prognosis == 'GOOD']),len(group1[group1.prognosis == 'POOR'])\n",
    "        group2 = sort.iloc[j:,:]\n",
    "        a2,b2 = len(group2[group2.prognosis == 'GOOD']),len(group2[group2.prognosis == 'POOR'])\n",
    "        ig_list.append(entropy(62,25) - ((j/patients)*entropy(a1,b1)) - (((patients-j)/patients)*entropy(a2,b2)))\n",
    "    th_index = ig_list.index(max(ig_list))\n",
    "    th = sort.iloc[th_index,0]\n",
    "    column = data.iloc[:,i] >= th\n",
    "    column_list.append(column.astype(int))\n",
    "    gain.append(max(ig_list))\n",
    "column_list.append(data.iloc[:,-1])\n",
    "discretized = pd.concat(column_list,axis=1)"
   ]
  },
  {
   "cell_type": "code",
   "execution_count": 214,
   "metadata": {},
   "outputs": [],
   "source": [
    "# Divide data into good and poor subsets\n",
    "ood_list = []\n",
    "poor_list = []\n",
    "good = discretized[discretized.prognosis == 'GOOD']\n",
    "poor = discretized[discretized.prognosis == 'POOR']\n",
    "\n",
    "# Correction for log if attempting log(0)\n",
    "def new_log(x):\n",
    "    if x == 0:\n",
    "        return(np.log(0.001))\n",
    "    else:\n",
    "        return(np.log(x))\n",
    "\n",
    "# Find the probability of expression being 1 for each gene in each subsetna\n",
    "for i in names:\n",
    "    good_list.append(np.mean(good[i]))\n",
    "    poor_list.append(np.mean(poor[i]))\n",
    "\n",
    "# Naive Bayes implementaiton for classification. \n",
    "def predict_class(gene_list):\n",
    "    classes = []\n",
    "    class_prob = []\n",
    "    for i in range(patients):\n",
    "        p_good = np.log(62/87)\n",
    "        p_poor = np.log(25/87)\n",
    "        for j in gene_list:\n",
    "            if discretized.iloc[i,j] == 1:\n",
    "                p_good += new_log(good_list[j])\n",
    "                p_poor += new_log(poor_list[j])\n",
    "            else:\n",
    "                p_good += new_log(1-good_list[j])\n",
    "                p_poor += new_log(1-poor_list[j])\n",
    "        class_prob.append(p_good-p_poor)\n",
    "        classes.append((p_good-p_poor) >= 0)\n",
    "    print(sum(classes == (discretized.prognosis == 'GOOD'))/87)\n",
    "    return(class_prob)"
   ]
  },
  {
   "cell_type": "code",
   "execution_count": 228,
   "metadata": {},
   "outputs": [
    {
     "name": "stdout",
     "output_type": "stream",
     "text": [
      "          gene        ig\n",
      "6     33662_at  0.199922\n",
      "23    38839_at  0.193551\n",
      "13    33809_at  0.168857\n",
      "25  38840_s_at  0.164204\n",
      "10  33672_f_at  0.159296\n",
      "7     33713_at  0.155248\n",
      "8     41172_at  0.155059\n",
      "3   33582_s_at  0.153269\n",
      "18    34683_at  0.142871\n",
      "20  31989_s_at  0.132685\n",
      "28  31377_r_at  0.132413\n",
      "29    37439_at  0.131325\n",
      "19    31578_at  0.131325\n",
      "24    35196_at  0.130524\n",
      "17    41044_at  0.124735\n",
      "5   36559_g_at  0.123653\n",
      "4     40131_at  0.122553\n",
      "22    38221_at  0.122079\n",
      "1     35291_at  0.122079\n",
      "21    32607_at  0.120237\n",
      "0     37086_at  0.116993\n",
      "15    32672_at  0.115832\n",
      "14    39298_at  0.110590\n",
      "9     39028_at  0.102109\n",
      "2     41757_at  0.101468\n",
      "26    41872_at  0.095960\n",
      "16    32434_at  0.093014\n",
      "11    35895_at  0.091058\n",
      "27    33741_at  0.091058\n",
      "12  38673_s_at  0.080427\n",
      "0.8275862068965517\n",
      "0.8045977011494253\n",
      "0.8850574712643678\n",
      "0.9655172413793104\n"
     ]
    }
   ],
   "source": [
    "# Sorted genes by information gain, and calclate accuracy of prediction\n",
    "gene_ig = pd.DataFrame({\"gene\":names,\"ig\":gain})\n",
    "gene_ig_sorted = gene_ig.sort_values(by=[\"ig\"],ascending=False)\n",
    "print(gene_ig_sorted)\n",
    "\n",
    "genes_3 = predict_class(list(gene_ig_sorted.iloc[0:3,:].index))\n",
    "genes_5 = predict_class(list(gene_ig_sorted.iloc[0:5,:].index))\n",
    "genes_10 = predict_class(list(gene_ig_sorted.iloc[0:10,:].index))\n",
    "genes_all = predict_class(list(range(30)))"
   ]
  },
  {
   "cell_type": "code",
   "execution_count": 220,
   "metadata": {},
   "outputs": [
    {
     "name": "stdout",
     "output_type": "stream",
     "text": [
      "0.8641935483870968\n",
      "0.9009677419354839\n",
      "0.960967741935484\n",
      "0.9974193548387097\n"
     ]
    }
   ],
   "source": [
    "# Calculate AUC values\n",
    "from sklearn.metrics import roc_curve, roc_auc_score\n",
    "print(roc_auc_score(discretized.prognosis == \"GOOD\",genes_3))\n",
    "print(roc_auc_score(discretized.prognosis == \"GOOD\",genes_5))\n",
    "print(roc_auc_score(discretized.prognosis == \"GOOD\",genes_10))\n",
    "print(roc_auc_score(discretized.prognosis == \"GOOD\",genes_all))"
   ]
  },
  {
   "cell_type": "code",
   "execution_count": null,
   "metadata": {},
   "outputs": [],
   "source": []
  }
 ],
 "metadata": {
  "kernelspec": {
   "display_name": "Python 3",
   "language": "python",
   "name": "python3"
  },
  "language_info": {
   "codemirror_mode": {
    "name": "ipython",
    "version": 3
   },
   "file_extension": ".py",
   "mimetype": "text/x-python",
   "name": "python",
   "nbconvert_exporter": "python",
   "pygments_lexer": "ipython3",
   "version": "3.7.4"
  }
 },
 "nbformat": 4,
 "nbformat_minor": 2
}
